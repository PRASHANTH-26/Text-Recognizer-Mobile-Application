{
  "nbformat": 4,
  "nbformat_minor": 0,
  "metadata": {
    "colab": {
      "name": "Project.ipynb",
      "provenance": [],
      "collapsed_sections": [],
      "authorship_tag": "ABX9TyMRDYU4sLHDtFlK/4wLQ9MQ",
      "include_colab_link": true
    },
    "kernelspec": {
      "display_name": "Python 3",
      "name": "python3"
    },
    "language_info": {
      "name": "python"
    }
  },
  "cells": [
    {
      "cell_type": "markdown",
      "metadata": {
        "id": "view-in-github",
        "colab_type": "text"
      },
      "source": [
        "<a href=\"https://colab.research.google.com/github/PRASHANTH-26/Text-Recognizer-Mobile-Application/blob/main/Project.ipynb\" target=\"_parent\"><img src=\"https://colab.research.google.com/assets/colab-badge.svg\" alt=\"Open In Colab\"/></a>"
      ]
    },
    {
      "cell_type": "code",
      "metadata": {
        "colab": {
          "base_uri": "https://localhost:8080/"
        },
        "id": "_NuvWAGMfsWP",
        "outputId": "eb0e85ed-744a-4d37-f845-be1a044af4fa"
      },
      "source": [
        "\n",
        "#Create a dictionary\n",
        "\n",
        "finalData=[]\n",
        "employeeId=0\n",
        "while(1):\n",
        " print(\"Press 1 to enter the employee details\")\n",
        " print(\"Enter 2 to quit\")\n",
        "\n",
        " i=int(input())\n",
        "\n",
        " if i==1 :\n",
        "  employeeData={}\n",
        "  employeeId+=1\n",
        "  \n",
        "  \n",
        "  employeeData[\"employeeId\"]=employeeId\n",
        "  \n",
        "  str1=input(\"Enter employee name\")\n",
        "  employeeData[\"employeeName\"]=str1\n",
        "\n",
        "  str2=input(\"Enter employee age\")\n",
        "  employeeData[\"employeeAge\"]=str2\n",
        "\n",
        "\n",
        "  str3=input(\"Enter employee gender\")\n",
        "  employeeData[\"employeeGenger\"]=str3\n",
        "\n",
        "  str4=input(\"Enter employee phoneno\")\n",
        "  employeeData[\"employeePhoneno\"]=str4\n",
        "\n",
        "  str5=input(\"Enter employee location\")\n",
        "  employeeData[\"employeeLocation\"]=str5\n",
        "\n",
        "  str6=input(\"Enter employee department\")\n",
        "  employeeData[\"employeeDept\"]=str6\n",
        "\n",
        "  str7=input(\"Enter employee salary\")\n",
        "  employeeData[\"employeeSalary\"]=str7\n",
        "\n",
        "  finalData.append(employeeData)\n",
        "\n",
        "\n",
        " \n",
        "\n",
        "  \n",
        "\n",
        "  \n",
        " elif i==2 :\n",
        "  print(finalData)\n",
        "  break; "
      ],
      "execution_count": null,
      "outputs": [
        {
          "name": "stdout",
          "output_type": "stream",
          "text": [
            "Press 1 to enter the employee details\n",
            "Enter 2 to quit\n",
            "1\n",
            "Enter employee namepaul\n",
            "Enter employee age6\n",
            "Enter employee genderf\n",
            "Enter employee phoneno5454\n",
            "Enter employee locationdfgddfg\n",
            "Enter employee departmentdsfsfd\n",
            "Enter employee salary9500000\n",
            "Press 1 to enter the employee details\n",
            "Enter 2 to quit\n",
            "1\n",
            "Enter employee nameprem\n",
            "Enter employee age99\n",
            "Enter employee genderf\n",
            "Enter employee phoneno54454\n",
            "Enter employee locationasda\n",
            "Enter employee departmentadsas\n",
            "Enter employee salary434334434334\n",
            "Press 1 to enter the employee details\n",
            "Enter 2 to quit\n",
            "2\n",
            "[{'employeeId': 1, 'employeeName': 'paul', 'employeeAge': '6', 'employeeGenger': 'f', 'employeePhoneno': '5454', 'employeeLocation': 'dfgddfg', 'employeeDept': 'dsfsfd', 'employeeSalary': '9500000'}, {'employeeId': 2, 'employeeName': 'prem', 'employeeAge': '99', 'employeeGenger': 'f', 'employeePhoneno': '54454', 'employeeLocation': 'asda', 'employeeDept': 'adsas', 'employeeSalary': '434334434334'}]\n"
          ]
        }
      ]
    },
    {
      "cell_type": "code",
      "metadata": {
        "id": "guRKm8v5n7vH"
      },
      "source": [
        "#Create blockchain\n",
        "import hashlib\n",
        "class neuralCoinBlock:\n",
        "  def __init__(self,preBlockHash,tranList):\n",
        "    self.preBlockHash=preBlockHash\n",
        "    self.tranList=tranList\n",
        "\n",
        "\n",
        "    self.blockData=\"-\".join(tranList)+\"-\"+preBlockHash\n",
        "    self.blockHash=hashlib.sha256(self.blockData.encode()).hexdigest()"
      ],
      "execution_count": 16,
      "outputs": []
    },
    {
      "cell_type": "code",
      "metadata": {
        "id": "QDEX4FG1V9Es"
      },
      "source": [
        "InitialBlock=neuralCoinBlock(\"Encode Password\", \"ewewew\")\n"
      ],
      "execution_count": 17,
      "outputs": []
    },
    {
      "cell_type": "code",
      "metadata": {
        "colab": {
          "background_save": true,
          "base_uri": "https://localhost:8080/",
          "height": 35
        },
        "id": "YLSsGA4qWBjD",
        "outputId": "599822d3-6947-4386-fc7a-8c62424a00fd"
      },
      "source": [
        "InitialBlock.blockData\n"
      ],
      "execution_count": null,
      "outputs": [
        {
          "data": {
            "application/vnd.google.colaboratory.intrinsic+json": {
              "type": "string"
            },
            "text/plain": [
              "'e-w-e-w-e-w-Encode Password'"
            ]
          },
          "execution_count": null,
          "metadata": {},
          "output_type": "execute_result"
        }
      ]
    },
    {
      "cell_type": "code",
      "metadata": {
        "colab": {
          "base_uri": "https://localhost:8080/",
          "height": 35
        },
        "id": "ILJMNTbGWIMK",
        "outputId": "04228543-bb54-49cd-a921-b29bf20cd983"
      },
      "source": [
        "InitialBlock.blockHash"
      ],
      "execution_count": 19,
      "outputs": [
        {
          "output_type": "execute_result",
          "data": {
            "application/vnd.google.colaboratory.intrinsic+json": {
              "type": "string"
            },
            "text/plain": [
              "'3ed04bd43b49fdc472316a99a8461d87b820445da2be4b25dbfacb14020835fb'"
            ]
          },
          "metadata": {},
          "execution_count": 19
        }
      ]
    },
    {
      "cell_type": "code",
      "metadata": {
        "colab": {
          "base_uri": "https://localhost:8080/",
          "height": 35
        },
        "id": "0vMi21u_Xuh8",
        "outputId": "519c7593-df5a-49b1-e314-4b3b15fc6c49"
      },
      "source": [
        "values = ','.join(str(v) for v in finalData)\n",
        "\n",
        "\n",
        "SecondBlock=neuralCoinBlock(InitialBlock.blockHash, values)\n",
        "SecondBlock.blockHash\n"
      ],
      "execution_count": 23,
      "outputs": [
        {
          "output_type": "execute_result",
          "data": {
            "application/vnd.google.colaboratory.intrinsic+json": {
              "type": "string"
            },
            "text/plain": [
              "'0fc23d7073283cb9dd76670c2f797b34a891e4e55e6f2607f694fd10a12811fd'"
            ]
          },
          "metadata": {},
          "execution_count": 23
        }
      ]
    },
    {
      "cell_type": "code",
      "metadata": {
        "id": "8honl-z4YYER"
      },
      "source": [
        "#Adding timestamp\n",
        "\n",
        "index=[]\n",
        "import datetime\n",
        "import pytz\n",
        "def createBlock(prevHash,data):\n",
        "  b=neuralCoinBlock(prevHash,data)\n",
        "  index.append([b.blockHash,datetime.datetime.now(pytz.timezone('Asia/Kolkata'))])\n",
        "  return b.blockHash\n"
      ],
      "execution_count": 25,
      "outputs": []
    },
    {
      "cell_type": "code",
      "metadata": {
        "colab": {
          "base_uri": "https://localhost:8080/"
        },
        "id": "aJ-FQ1n_YZHl",
        "outputId": "a0d983ec-702c-4cfe-a52d-f3add218974a"
      },
      "source": [
        "createBlock(\"0fc23d7073283cb9dd76670c2f797b34a891e4e55e6f2607f694fd10a12811fd\",values)\n",
        "print(index)"
      ],
      "execution_count": 28,
      "outputs": [
        {
          "output_type": "stream",
          "name": "stdout",
          "text": [
            "[['9fc23f35ef8a9e920c63b03a1a8428cafaee51f2bc8d60bc715ec7098fa33e68', datetime.datetime(2021, 10, 30, 14, 18, 12, 514287, tzinfo=<DstTzInfo 'Asia/Kolkata' IST+5:30:00 STD>)], ['18f95e49f93b66ec7cde09298c9cb9d696ee8c7301cd401d8c4e7784ba8ed346', datetime.datetime(2021, 10, 30, 14, 22, 21, 748622, tzinfo=<DstTzInfo 'Asia/Kolkata' IST+5:30:00 STD>)], ['18f95e49f93b66ec7cde09298c9cb9d696ee8c7301cd401d8c4e7784ba8ed346', datetime.datetime(2021, 10, 30, 14, 22, 37, 494394, tzinfo=<DstTzInfo 'Asia/Kolkata' IST+5:30:00 STD>)]]\n"
          ]
        }
      ]
    }
  ]
}